{
 "cells": [
  {
   "cell_type": "code",
   "execution_count": 45,
   "id": "2265bb75",
   "metadata": {},
   "outputs": [],
   "source": [
    "from bs4 import BeautifulSoup\n",
    "import requests\n",
    "import pandas as pd"
   ]
  },
  {
   "cell_type": "code",
   "execution_count": 77,
   "id": "451ac07a",
   "metadata": {},
   "outputs": [],
   "source": [
    "def parser(url):\n",
    "    html = requests.get(url).text\n",
    "    \n",
    "    soup = BeautifulSoup(html, \"html.parser\")\n",
    "    \n",
    "    div_elements_info = soup.find_all('div', {'class': 'info'})\n",
    "    div_elements_rating = soup.find_all('div', {'class': 'rating ratingGreenBG'})\n",
    "    \n",
    "    dataset_name = []\n",
    "    dataset_rating = []\n",
    "    \n",
    "    for div_elements_info_1 in div_elements_info:\n",
    "        p_elements = soup.find_all('p')\n",
    "        text = []\n",
    "        for p_elements_1 in p_elements:\n",
    "            text.append(p_elements_1.text)\n",
    "        dataset_name.extend(text)\n",
    "    \n",
    "    for div_elements_rating_1 in div_elements_rating:\n",
    "        text = []\n",
    "        text.append(div_elements_rating_1.text)\n",
    "        dataset_rating.extend(text)\n",
    "    \n",
    "    return dataset_name, dataset_rating"
   ]
  },
  {
   "cell_type": "code",
   "execution_count": 78,
   "id": "c2d5e587",
   "metadata": {},
   "outputs": [],
   "source": [
    "dataset_name = parser(\"https://www.kinopoisk.ru/s/type/film/list/1/order/rating/m_act[from_year]/2010/m_act[to_year]/2015/m_act[genre][0]/1750/m_act[genre_and]/on/page/1/\")[0]\n",
    "dataset_rating = parser(\"https://www.kinopoisk.ru/s/type/film/list/1/order/rating/m_act[from_year]/2010/m_act[to_year]/2015/m_act[genre][0]/1750/m_act[genre_and]/on/page/1/\")[1]"
   ]
  },
  {
   "cell_type": "code",
   "execution_count": 82,
   "id": "9f9a1cdd",
   "metadata": {},
   "outputs": [],
   "source": [
    "dataset_name = list(filter(None, dataset_name))\n",
    "dataset_name = list(filter(lambda x: x != '\\n', dataset_name))\n",
    "dataset_name = dataset_name[:100:]"
   ]
  },
  {
   "cell_type": "code",
   "execution_count": 112,
   "id": "6e4856f2",
   "metadata": {},
   "outputs": [],
   "source": [
    "dataset_name_v2 = parser(\"https://www.kinopoisk.ru/s/type/film/list/1/order/rating/m_act[from_year]/2010/m_act[to_year]/2015/m_act[genre][0]/1750/m_act[genre_and]/on/page/2/\")[0]\n",
    "dataset_rating_v2 = parser(\"https://www.kinopoisk.ru/s/type/film/list/1/order/rating/m_act[from_year]/2010/m_act[to_year]/2015/m_act[genre][0]/1750/m_act[genre_and]/on/page/2/\")[1]"
   ]
  },
  {
   "cell_type": "code",
   "execution_count": 113,
   "id": "196b8f0b",
   "metadata": {},
   "outputs": [],
   "source": [
    "dataset_name_v2 = list(filter(None, dataset_name_v2))\n",
    "dataset_name_v2 = list(filter(lambda x: x != '\\n', dataset_name_v2))\n",
    "dataset_name_v2 = dataset_name_v2[:40:]\n",
    "dataset_rating_v2 = dataset_rating_v2[:40:]"
   ]
  },
  {
   "cell_type": "code",
   "execution_count": 119,
   "id": "5ba37adf",
   "metadata": {},
   "outputs": [],
   "source": [
    "dataset_name.extend(dataset_name_v2)\n",
    "dataset_rating.extend(dataset_rating_v2)"
   ]
  },
  {
   "cell_type": "code",
   "execution_count": 122,
   "id": "077f7683",
   "metadata": {},
   "outputs": [],
   "source": [
    "table = pd.DataFrame({'Название, год': dataset_name, 'Рейтинг(Кинопоиск)': dataset_rating})"
   ]
  },
  {
   "cell_type": "code",
   "execution_count": 124,
   "id": "690af67b",
   "metadata": {},
   "outputs": [],
   "source": [
    "table.to_csv('kinopoisk_rating.csv')"
   ]
  }
 ],
 "metadata": {
  "kernelspec": {
   "display_name": "Python 3 (ipykernel)",
   "language": "python",
   "name": "python3"
  },
  "language_info": {
   "codemirror_mode": {
    "name": "ipython",
    "version": 3
   },
   "file_extension": ".py",
   "mimetype": "text/x-python",
   "name": "python",
   "nbconvert_exporter": "python",
   "pygments_lexer": "ipython3",
   "version": "3.10.6"
  }
 },
 "nbformat": 4,
 "nbformat_minor": 5
}
